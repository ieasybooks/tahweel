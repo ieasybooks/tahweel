{
  "cells": [
    {
      "cell_type": "markdown",
      "metadata": {
        "id": "7yt9XU3dWaLf"
      },
      "source": [
        "<div dir=\"rtl\">\n",
        "  <center>\n",
        "    <h1>تحويل - الكتب المُيسّرة</h1>\n",
        "  </center>\n",
        "\n",
        "  <p>مرحبًا بك في تحويل لتحويل ملفات PDF إلى Word/DOCX و TXT باستخدام تقنيات الذكاء الاصطناعي. لاستخدام تحويل:</p>\n",
        "\n",
        "  <ol>\n",
        "    <li>قم بتحديد ما إذا كنت تريد إزالة الأسطر من ملف Word/DOCX أو لا من خلال الخيار الموجود في الأسفل</li>\n",
        "    <li>قم بتشغيل الخلية في الأسفل من خلال الضغط على الدائرة المحتوية على السهم</li>\n",
        "  </ol>\n",
        "\n",
        "  <p>عند الضغط على الدائرة المحتوية على السهم، ستبدأ عملية تجهيز بيئة العمل وستظهر لك رسالة تسألك هل تريد إعطاء الصلاحيات لتحويل أو لا، جاوب على هذه الرسالة بالموافقة واتبع الخطوات. بعد ذلك ستظهر لك رسالة تطلب منك اختيار ملف أو ملفات PDF التي تريد تحويلها إلى Word/DOCX و TXT. عند اختيار الملف أو الملفات، ستبدأ عملية التحويل وعند انتهائها سيتم تنزيل المخرجات إلى حاسبك.</p>\n",
        "\n",
        "  <hr>\n",
        "\n",
        "  <p>يمكنك متابعة مشروع <strong>الكتب المُيسّرة</strong> والتواصل معنا من خلال:</p>\n",
        "\n",
        "  <ul>\n",
        "    <li><a href=\"https://t.me/ieasybooks\">قناتنا على تيليجرام</a></li>\n",
        "    <li><a href=\"https://www.youtube.com/@ieasybooks\">قناتنا على يوتيوب</a></li>\n",
        "    <li><a href=\"https://twitter.com/iieasybooks\">حسابنا على تويتر</a></li>\n",
        "    <li><a href=\"https://www.facebook.com/ieasybooks\">صفحتنا على فيسبوك</a></li>\n",
        "    <li><a href=\"https://github.com/ieasybooks\">حسابنا على GitHub (للمبرمجين)</a></li>\n",
        "    <li>بريدنا الالكتروني: easybooksdev@gmail.com</li>\n",
        "  </ul>\n",
        "</div>"
      ]
    },
    {
      "cell_type": "code",
      "execution_count": null,
      "metadata": {
        "cellView": "form",
        "id": "Uf8p_j7vXHTg"
      },
      "outputs": [],
      "source": [
        "\n",
        "# @title <h1><center>تحويل</center></h1>\n",
        "\n",
        "print('جارٍ تجهيز بيئة العمل.')\n",
        "\n",
        "# Setup Tahweel.\n",
        "!pip install -U tahweel==0.0.5 > install_logs.txt\n",
        "\n",
        "# Setup poppler-utils.\n",
        "!apt-get install poppler-utils > poppler_logs.txt\n",
        "\n",
        "# Get inputs.\n",
        "\n",
        "# @markdown <p dir=\"rtl\">إزالة الأسطر من ملفات Word/DOCX. هذا الاختيار مفيد في حال أردت أن تكون عدد صفحات ملف DOCX مساوياً لعدد صفحات ملف PDF.</p>\n",
        "docx_remove_newlines = 'نعم' # @param [\"نعم\", \"لا\"] {type:\"raw\"}\n",
        "\n",
        "# Imports.\n",
        "import os\n",
        "\n",
        "from google.colab.auth import authenticate_user\n",
        "from google.colab.files import upload, download\n",
        "\n",
        "if not os.path.exists('user_authenticated.txt'):\n",
        "  authenticate_user()\n",
        "  open('user_authenticated.txt', 'w').close()\n",
        "\n",
        "print('حدد الملف أو الملفات التي تريد تحويلها:')\n",
        "\n",
        "file_names = list(upload().keys())\n",
        "\n",
        "print('جارٍ تحويل الملفات.')\n",
        "\n",
        "if docx_remove_newlines == 'نعم':\n",
        "  os.system('tahweel . --dir-output-type side_by_side --docx-remove-newlines --service-account-credentials ./skip_service_account.json')\n",
        "else:\n",
        "  os.system('tahweel . --dir-output-type side_by_side --service-account-credentials ./skip_service_account.json')\n",
        "\n",
        "print('جارٍ تنزيل المخرجات.')\n",
        "\n",
        "for file_name in file_names:\n",
        "  if file_name.endswith('.pdf'):\n",
        "    download(file_name.replace('.pdf', '.docx'))\n",
        "    download(file_name.replace('.pdf', '.txt'))"
      ]
    }
  ],
  "metadata": {
    "colab": {
      "provenance": []
    },
    "kernelspec": {
      "display_name": "Python 3",
      "name": "python3"
    },
    "language_info": {
      "name": "python"
    }
  },
  "nbformat": 4,
  "nbformat_minor": 0
}

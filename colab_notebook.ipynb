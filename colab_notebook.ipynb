{
 "cells": [
  {
   "cell_type": "code",
   "execution_count": null,
   "metadata": {},
   "outputs": [],
   "source": [
    "# @title <h1><center>تحويل</center></h1>\n",
    "\n",
    "print('جارٍ تجهيز بيئة العمل.')\n",
    "\n",
    "# Setup Tahweel.\n",
    "!pip install -U tahweel==0.0.4 > install_logs.txt\n",
    "\n",
    "# Setup poppler-utils.\n",
    "!apt-get install poppler-utils > poppler_logs.txt\n",
    "\n",
    "# Imports.\n",
    "from google.colab.auth import authenticate_user\n",
    "from google.colab.files import upload, download\n",
    "\n",
    "authenticate_user()\n",
    "file_names = list(upload().keys())\n",
    "\n",
    "!tahweel . --dir-output-type side_by_side --docx-remove-newlines --service-account-credentials ./skip_service_account.json\n",
    "\n",
    "for file_name in file_names:\n",
    "  if file_name.endswith('.pdf'):\n",
    "    download(file_name.replace('.pdf', '.docx'))\n",
    "    download(file_name.replace('.pdf', '.txt'))"
   ]
  }
 ],
 "metadata": {
  "language_info": {
   "name": "python"
  }
 },
 "nbformat": 4,
 "nbformat_minor": 2
}
